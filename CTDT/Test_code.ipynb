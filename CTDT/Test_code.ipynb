{
 "cells": [
  {
   "cell_type": "code",
   "execution_count": null,
   "metadata": {},
   "outputs": [
    {
     "ename": "ModuleNotFoundError",
     "evalue": "No module named 'CTDT'",
     "output_type": "error",
     "traceback": [
      "\u001b[1;31m---------------------------------------------------------------------------\u001b[0m",
      "\u001b[1;31mModuleNotFoundError\u001b[0m                       Traceback (most recent call last)",
      "Cell \u001b[1;32mIn[4], line 4\u001b[0m\n\u001b[0;32m      2\u001b[0m \u001b[38;5;28;01mimport\u001b[39;00m \u001b[38;5;21;01mdjango\u001b[39;00m\n\u001b[0;32m      3\u001b[0m \u001b[38;5;28;01mfrom\u001b[39;00m \u001b[38;5;21;01mdjango\u001b[39;00m\u001b[38;5;21;01m.\u001b[39;00m\u001b[38;5;21;01mshortcuts\u001b[39;00m \u001b[38;5;28;01mimport\u001b[39;00m render\n\u001b[1;32m----> 4\u001b[0m \u001b[38;5;28;01mfrom\u001b[39;00m \u001b[38;5;21;01mCTDT\u001b[39;00m\u001b[38;5;21;01m.\u001b[39;00m\u001b[38;5;21;01mmodels\u001b[39;00m \u001b[38;5;28;01mimport\u001b[39;00m common_attest\n\u001b[0;32m      6\u001b[0m \u001b[38;5;66;03m# Dữ liệu mã và số thứ tự từ file Word\u001b[39;00m\n\u001b[0;32m      7\u001b[0m common_attest_id \u001b[38;5;241m=\u001b[39m \u001b[38;5;124m\"\u001b[39m\u001b[38;5;124mMC001\u001b[39m\u001b[38;5;124m\"\u001b[39m\n",
      "\u001b[1;31mModuleNotFoundError\u001b[0m: No module named 'CTDT'"
     ]
    }
   ],
   "source": [
    "import os\n",
    "import django\n",
    "\n",
    "from django.shortcuts import render\n",
    "from CTDT.models import common_attest\n",
    "\n",
    "# Dữ liệu mã và số thứ tự từ file Word\n",
    "common_attest_id = \"MC001\"\n",
    "common_attest_stt = \"1\"\n",
    "\n",
    "try:\n",
    "    # Truy vấn bản ghi dùng chung\n",
    "    common_evidence = common_attest.objects.get(code=common_attest_id, order=common_attest_stt)\n",
    "    print(\"Tìm thấy minh chứng dùng chung:\", common_evidence)\n",
    "except common_attest.DoesNotExist:\n",
    "    print(\"Không tìm thấy minh chứng dùng chung với mã và số thứ tự đã cho.\")"
   ]
  }
 ],
 "metadata": {
  "kernelspec": {
   "display_name": "Python 3",
   "language": "python",
   "name": "python3"
  },
  "language_info": {
   "codemirror_mode": {
    "name": "ipython",
    "version": 3
   },
   "file_extension": ".py",
   "mimetype": "text/x-python",
   "name": "python",
   "nbconvert_exporter": "python",
   "pygments_lexer": "ipython3",
   "version": "3.9.13"
  }
 },
 "nbformat": 4,
 "nbformat_minor": 2
}
